{
 "cells": [
  {
   "cell_type": "code",
   "execution_count": null,
   "metadata": {},
   "outputs": [],
   "source": [
    "import pandas as pd\n",
    "import numpy as np\n",
    "import matplotlib.pyplot as plt\n",
    "from sklearn.cluster import KMeans\n",
    "\n",
    "\n",
    "\"\"\"\n",
    "# read the data.json file into a dataframe\n",
    "\n",
    "\"\"\" \n",
    "df = pd.read_json('data.json')\n",
    "\n",
    "\"\"\"\n",
    "# drop the columns that are not needed\n",
    "\n",
    "\"\"\"\n",
    "df = df.drop(['id', 'name', 'address', 'city', 'state', 'postalCode', 'country', 'phone', 'categories'], axis=1)\n",
    "\n",
    "\"\"\"\n",
    "# drop the rows that have null values\n",
    "\n",
    "\"\"\" \n",
    "df = df.dropna()\n",
    "\n",
    "\"\"\"\n",
    "# convert the latitude and longitude to float\n",
    "\n",
    "\"\"\" \n",
    "df['latitude'] = df['latitude'].astype(float) \n",
    "df['longitude'] = df['longitude'].astype(float)\n",
    "\n",
    "\"\"\"\n",
    "# convert the latitude and longitude to a numpy array\n",
    "\n",
    "\"\"\" \n",
    "X = df[['latitude', 'longitude']].values\n",
    "\n",
    "\"\"\"\n",
    "# use the elbow method to find the optimal number of clusters\n",
    "\n",
    "\"\"\" \n"
   ]
  },
  {
   "cell_type": "markdown",
   "metadata": {},
   "source": []
  },
  {
   "cell_type": "code",
   "execution_count": null,
   "metadata": {},
   "outputs": [],
   "source": []
  }
 ],
 "metadata": {
  "kernelspec": {
   "display_name": "Python 3",
   "language": "python",
   "name": "python3"
  },
  "language_info": {
   "name": "python",
   "version": "3.10.12"
  }
 },
 "nbformat": 4,
 "nbformat_minor": 2
}
